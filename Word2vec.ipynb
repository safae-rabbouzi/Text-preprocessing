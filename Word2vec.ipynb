{
  "nbformat": 4,
  "nbformat_minor": 0,
  "metadata": {
    "colab": {
      "provenance": [],
      "toc_visible": true,
      "authorship_tag": "ABX9TyM53X0NBXx90CSFJ4JkNZKX",
      "include_colab_link": true
    },
    "kernelspec": {
      "name": "python3",
      "display_name": "Python 3"
    },
    "language_info": {
      "name": "python"
    }
  },
  "cells": [
    {
      "cell_type": "markdown",
      "metadata": {
        "id": "view-in-github",
        "colab_type": "text"
      },
      "source": [
        "<a href=\"https://colab.research.google.com/github/safae-rabbouzi/Text-preprocessing/blob/main/Word2vec.ipynb\" target=\"_parent\"><img src=\"https://colab.research.google.com/assets/colab-badge.svg\" alt=\"Open In Colab\"/></a>"
      ]
    },
    {
      "cell_type": "code",
      "execution_count": null,
      "metadata": {
        "id": "9hIy_0q6srN0"
      },
      "outputs": [],
      "source": [
        "import string\n",
        "import nltk\n",
        "from gensim.models import Word2Vec\n",
        "from nltk.tokenize import word_tokenize, sent_tokenize\n",
        "from nltk.corpus import stopwords\n",
        "import re"
      ]
    },
    {
      "cell_type": "code",
      "source": [
        "nltk.download('punkt')\n",
        "nltk.download('stopwords')"
      ],
      "metadata": {
        "colab": {
          "base_uri": "https://localhost:8080/"
        },
        "id": "T8wrbCVTs2so",
        "outputId": "ddd1b0a4-2af8-4eb9-8fd4-7896540a8da0"
      },
      "execution_count": null,
      "outputs": [
        {
          "output_type": "stream",
          "name": "stderr",
          "text": [
            "[nltk_data] Downloading package punkt to /root/nltk_data...\n",
            "[nltk_data]   Unzipping tokenizers/punkt.zip.\n",
            "[nltk_data] Downloading package stopwords to /root/nltk_data...\n",
            "[nltk_data]   Unzipping corpora/stopwords.zip.\n"
          ]
        },
        {
          "output_type": "execute_result",
          "data": {
            "text/plain": [
              "True"
            ]
          },
          "metadata": {},
          "execution_count": 2
        }
      ]
    },
    {
      "cell_type": "code",
      "source": [
        "stop_words = set(stopwords.words('english'))"
      ],
      "metadata": {
        "id": "TsvC2_sis6sb"
      },
      "execution_count": null,
      "outputs": []
    },
    {
      "cell_type": "code",
      "source": [
        "with open('text', 'r', encoding='utf-8') as file:\n",
        "    text = file.read()"
      ],
      "metadata": {
        "id": "k8aiTWK8s-s6"
      },
      "execution_count": null,
      "outputs": []
    },
    {
      "cell_type": "code",
      "source": [
        "cleaned_text = re.sub(r'\\n', ' ', text)\n",
        "cleaned_text = re.sub(r'\\s+', ' ', cleaned_text)"
      ],
      "metadata": {
        "id": "v6zc2QYvtDK2"
      },
      "execution_count": null,
      "outputs": []
    },
    {
      "cell_type": "code",
      "source": [
        "sentences = sent_tokenize(cleaned_text)\n",
        "tokenized_sentences = [word_tokenize(sentence.lower()) for sentence in sentences]"
      ],
      "metadata": {
        "id": "rpufsgahtFk8"
      },
      "execution_count": null,
      "outputs": []
    },
    {
      "cell_type": "code",
      "source": [
        "filtered_sentences = []\n",
        "for sentence in tokenized_sentences:\n",
        "    filtered_sentence = []\n",
        "    for word in sentence:\n",
        "        if word not in stop_words and word not in string.punctuation:\n",
        "            filtered_sentence.append(word)\n",
        "    filtered_sentences.append(filtered_sentence)"
      ],
      "metadata": {
        "id": "kojFRXJbtPoZ"
      },
      "execution_count": null,
      "outputs": []
    },
    {
      "cell_type": "code",
      "source": [
        "model = Word2Vec(filtered_sentences, vector_size=200, window=10, min_count=5, workers=4, sg=1)"
      ],
      "metadata": {
        "id": "jYO6Qnc1tRp7"
      },
      "execution_count": null,
      "outputs": []
    },
    {
      "cell_type": "code",
      "source": [
        "word_vector = model.wv['morocco']\n",
        "print(\"Représentation vectorielle du mot 'morocco':\\n\", word_vector)"
      ],
      "metadata": {
        "colab": {
          "base_uri": "https://localhost:8080/"
        },
        "id": "-Js3RX0NtXzm",
        "outputId": "a4c0d2df-eca8-47e1-9353-b633ff44c7fd"
      },
      "execution_count": null,
      "outputs": [
        {
          "output_type": "stream",
          "name": "stdout",
          "text": [
            "Représentation vectorielle du mot 'morocco':\n",
            " [ 4.7281981e-05  1.5386599e-03 -3.4063226e-03 -6.8773271e-04\n",
            "  3.8342904e-03  3.6732047e-03 -1.8366486e-03  1.3213509e-03\n",
            " -4.1585648e-03  3.1027431e-03 -2.3186612e-03 -1.5820533e-03\n",
            "  4.6556783e-03  4.3669285e-04  3.7453515e-03 -3.0370313e-03\n",
            "  2.5802534e-03  4.9614115e-03 -4.2286958e-03 -2.5678456e-03\n",
            " -3.5324185e-03 -2.4313258e-03 -1.8892819e-03 -4.2680996e-03\n",
            "  3.9778030e-03 -2.4219691e-03  4.2118067e-03  2.6312852e-03\n",
            " -3.2750131e-03  1.9789357e-03  2.7350748e-03 -3.7132681e-03\n",
            " -3.7028599e-03 -1.2376154e-03 -4.3128626e-03 -7.9078617e-04\n",
            " -2.0171642e-04  1.6498422e-03  7.2094024e-04 -4.4071078e-04\n",
            " -2.7970290e-03  8.6518290e-04 -4.4868590e-04  3.3968454e-03\n",
            "  1.9867951e-03  2.2647358e-03  7.1715296e-04 -1.3499277e-03\n",
            " -2.1834064e-03 -5.1603734e-04  7.1851374e-04 -1.3230044e-03\n",
            " -3.5368914e-03 -3.9026535e-03 -4.5608934e-03 -2.9675846e-03\n",
            " -9.2371227e-04 -2.1619357e-03 -3.2303352e-03 -1.8586612e-03\n",
            "  2.1445793e-03 -1.8695217e-03  4.1890875e-03  7.6699676e-04\n",
            " -3.6211598e-03  4.7168992e-03  3.8156062e-03  2.7466409e-03\n",
            " -3.4244228e-03  2.9113395e-03  2.0045466e-03  2.5926847e-03\n",
            "  2.1279508e-03  9.6987723e-04 -1.5850812e-03  4.1769226e-03\n",
            "  4.8060901e-03  1.8963015e-03 -1.4184975e-03  3.5637618e-06\n",
            "  6.0940924e-04 -4.2291624e-03 -4.1119726e-03 -1.1550784e-04\n",
            "  6.1864377e-04 -2.8716903e-03 -2.3626368e-03 -3.6730373e-03\n",
            "  4.1643078e-03  6.0648919e-05 -2.2546994e-03  2.8508527e-03\n",
            "  4.5900075e-03 -2.0499360e-03  3.9823409e-03  2.6877171e-03\n",
            "  2.9395616e-03  2.5629520e-04  4.1065421e-03 -3.5095203e-03\n",
            " -4.1213389e-03  4.6496773e-03 -9.8830460e-05 -9.8363822e-04\n",
            "  2.3018152e-03 -2.0476580e-03  1.3715571e-03  3.4699833e-03\n",
            "  3.0327130e-03 -3.7553972e-03  4.6911752e-03  2.3359042e-03\n",
            "  1.9830603e-03 -3.1217528e-03  4.2299898e-03 -1.0750825e-03\n",
            "  4.4125938e-03 -2.6810013e-03 -4.0647094e-03  3.4122795e-03\n",
            "  8.3559635e-04 -1.0992545e-03  4.7568004e-03  4.7469274e-03\n",
            " -4.8870235e-03  1.2526143e-03  3.0783461e-03  1.9362282e-03\n",
            "  1.0113936e-03  2.1525085e-04  3.3681572e-04 -1.9103182e-03\n",
            " -3.5701252e-03 -1.0444361e-03  1.9619488e-03  4.4093416e-03\n",
            "  4.6295752e-03 -2.9879683e-03 -4.7013354e-03  4.8821885e-03\n",
            "  1.7148923e-03  2.5830586e-03  3.1411725e-03 -1.4021313e-03\n",
            "  3.6613517e-03  1.4151358e-03  1.4355022e-03 -1.1901850e-03\n",
            " -1.5641248e-03 -1.1850708e-03  2.1382184e-03  3.8028957e-05\n",
            " -4.7921394e-03 -4.8327721e-03 -3.0740970e-03 -6.4284803e-05\n",
            "  9.9870795e-04  4.7159838e-03  2.7921754e-03 -2.1453481e-03\n",
            "  1.3915836e-04  2.4821793e-03  3.8491548e-03 -5.7211163e-04\n",
            "  2.1617103e-03 -2.9071898e-03 -4.0209532e-04  4.0500253e-03\n",
            " -1.1800325e-03 -4.8317276e-03  2.8896302e-03 -1.9649111e-03\n",
            " -6.1143638e-04  4.9902587e-03 -1.1281753e-03 -2.3785322e-03\n",
            " -2.6646936e-03  3.4904450e-03 -2.8544359e-03  1.0568314e-03\n",
            " -2.6278300e-03  3.0603569e-03  2.1786534e-03  1.3031774e-03\n",
            " -7.4554147e-04 -1.3730318e-03  4.4964682e-03  2.6078874e-03\n",
            " -1.0812598e-03 -4.7351550e-03 -3.7130259e-03 -5.3187070e-04\n",
            " -3.9747357e-04 -1.2814546e-03  4.8413603e-03 -2.2926033e-04\n",
            "  2.9368806e-03 -3.7237937e-03 -1.2530369e-03 -2.7749317e-03]\n"
          ]
        }
      ]
    },
    {
      "cell_type": "code",
      "source": [
        "similarity = model.wv.similarity('morocco', 'marrakech')\n",
        "print(\"Similarité entre 'morocco' et 'marrakech':\", similarity)"
      ],
      "metadata": {
        "colab": {
          "base_uri": "https://localhost:8080/"
        },
        "id": "vOA6ak5AtdHo",
        "outputId": "a66790d0-a1a4-4557-ce13-fc27fda3a193"
      },
      "execution_count": null,
      "outputs": [
        {
          "output_type": "stream",
          "name": "stdout",
          "text": [
            "Similarité entre 'morocco' et 'marrakech': 0.009176574\n"
          ]
        }
      ]
    },
    {
      "cell_type": "code",
      "source": [
        "context_words = model.wv.most_similar('morocco', topn=5)\n",
        "# Filtrer les ponctuations\n",
        "context_words = [(word, similarity) for word, similarity in context_words if word not in string.punctuation]\n",
        "print(\"Mots contextuels pour 'morocco':\", context_words)"
      ],
      "metadata": {
        "colab": {
          "base_uri": "https://localhost:8080/"
        },
        "id": "N3wwqrIttgUr",
        "outputId": "4c85c3da-8332-4507-a70b-8598e106ff06"
      },
      "execution_count": null,
      "outputs": [
        {
          "output_type": "stream",
          "name": "stdout",
          "text": [
            "Mots contextuels pour 'morocco': [('marrakech', 0.009176568128168583)]\n"
          ]
        }
      ]
    }
  ]
}